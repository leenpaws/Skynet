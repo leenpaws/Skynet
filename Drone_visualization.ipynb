{
 "cells": [
  {
   "cell_type": "markdown",
   "metadata": {},
   "source": [
    "\n",
    " # SKYNET"
   ]
  },
  {
   "cell_type": "code",
   "execution_count": 1,
   "metadata": {},
   "outputs": [
    {
     "data": {
      "text/html": [
       "<script>requirejs.config({paths: { 'plotly': ['https://cdn.plot.ly/plotly-latest.min']},});if(!window.Plotly) {{require(['plotly'],function(plotly) {window.Plotly=plotly;});}}</script>"
      ],
      "text/vnd.plotly.v1+html": [
       "<script>requirejs.config({paths: { 'plotly': ['https://cdn.plot.ly/plotly-latest.min']},});if(!window.Plotly) {{require(['plotly'],function(plotly) {window.Plotly=plotly;});}}</script>"
      ]
     },
     "metadata": {},
     "output_type": "display_data"
    }
   ],
   "source": [
    "import pandas as pd\n",
    "import numpy as np\n",
    "%matplotlib inline\n",
    "import sys\n",
    "import pandas as pd\n",
    "import numpy as np\n",
    "import matplotlib.pyplot as plt\n",
    "import bokeh.plotting as bkp\n",
    "import json\n",
    "#import gmaps\n",
    "#import gmaps.datasets\n",
    "#gmaps.configure(api_key = )\n",
    "from pandas.io.json import json_normalize\n",
    "import os.path\n",
    "import scipy.stats as stats\n",
    "import math\n",
    "from sklearn.cluster import KMeans\n",
    "from sklearn.preprocessing import StandardScaler\n",
    "from sklearn.pipeline import make_pipeline\n",
    "from sklearn.decomposition import PCA\n",
    "import plotly.plotly as py\n",
    "import plotly.graph_objs as go\n",
    "import seaborn as sns\n",
    "from plotly.offline import download_plotlyjs, init_notebook_mode, plot as pl, iplot\n",
    "init_notebook_mode(connected=True)\n",
    "import matplotlib.pyplot as plt\n",
    "from collections import Counter"
   ]
  },
  {
   "cell_type": "markdown",
   "metadata": {},
   "source": [
    "WRANGLING"
   ]
  },
  {
   "cell_type": "markdown",
   "metadata": {},
   "source": [
    "LOAD ALL FILES INTO INDIVIDUAL DATA FRAMES AND LOOK FOR COMMONALITIES"
   ]
  },
  {
   "cell_type": "code",
   "execution_count": 2,
   "metadata": {
    "collapsed": true
   },
   "outputs": [],
   "source": [
    "#os.path.join\n",
    "clean_dir = '/home/skultra/Springboard/Code/Capstone-1/Drone_Data/Clean_CSV'"
   ]
  },
  {
   "cell_type": "code",
   "execution_count": 3,
   "metadata": {
    "collapsed": true
   },
   "outputs": [],
   "source": [
    "us_yemen_path = os.path.join(clean_dir, 'US_Yemen_updated.csv')\n",
    "cia_pakistan_path = os.path.join(clean_dir, 'CIA_Pakistan_updated.csv')\n",
    "us_somalia_path = os.path.join(clean_dir, 'US_Somalia_updated.csv')\n",
    "us_afghanistan_path = os.path.join(clean_dir, 'US_Afghanistan_Data.csv')"
   ]
  },
  {
   "cell_type": "code",
   "execution_count": 4,
   "metadata": {
    "collapsed": true
   },
   "outputs": [],
   "source": [
    "#CIA_Pakistan_clean_data\n",
    "pakistan = pd.read_csv(cia_pakistan_path)\n",
    "#US_Somalia_clean_data \n",
    "somalia = pd.read_csv(us_somalia_path)\n",
    "#US_Yemen_clean_data \n",
    "yemen = _data = pd.read_csv(us_yemen_path)\n",
    "#US_Afghanistan_clean_data \n",
    "afghanistan = pd.read_csv(us_afghanistan_path)"
   ]
  },
  {
   "cell_type": "code",
   "execution_count": 5,
   "metadata": {
    "collapsed": true
   },
   "outputs": [],
   "source": [
    "afghanistan['ID'] = ''\n",
    "afghanistan[\"ID\"] = afghanistan['Strike ID'].apply(lambda x : x.strip()[:3])\n",
    "somalia[\"ID\"] = somalia['Strike ID'].apply(lambda x : x.strip()[:3])\n",
    "pakistan[\"ID\"] = 'P'\n",
    "yemen[\"ID\"] = yemen['Strike ID'].apply(lambda x : x.strip()[:3])\n"
   ]
  },
  {
   "cell_type": "code",
   "execution_count": 6,
   "metadata": {},
   "outputs": [
    {
     "data": {
      "text/html": [
       "<div>\n",
       "<style scoped>\n",
       "    .dataframe tbody tr th:only-of-type {\n",
       "        vertical-align: middle;\n",
       "    }\n",
       "\n",
       "    .dataframe tbody tr th {\n",
       "        vertical-align: top;\n",
       "    }\n",
       "\n",
       "    .dataframe thead th {\n",
       "        text-align: right;\n",
       "    }\n",
       "</style>\n",
       "<table border=\"1\" class=\"dataframe\">\n",
       "  <thead>\n",
       "    <tr style=\"text-align: right;\">\n",
       "      <th></th>\n",
       "      <th>Air strike?</th>\n",
       "      <th>Area</th>\n",
       "      <th>Counter-\n",
       "terrorism, force protection or strategic effects?</th>\n",
       "      <th>Date</th>\n",
       "      <th>Drone strike</th>\n",
       "      <th>ID</th>\n",
       "      <th>Index</th>\n",
       "      <th>Location</th>\n",
       "      <th>Maximum children killed</th>\n",
       "      <th>Maximum civilians killed</th>\n",
       "      <th>...</th>\n",
       "      <th>Reported target group?</th>\n",
       "      <th>Reported target type</th>\n",
       "      <th>Strike ID</th>\n",
       "      <th>Strike link</th>\n",
       "      <th>Time</th>\n",
       "      <th>Type of attack</th>\n",
       "      <th>US confirmed?</th>\n",
       "      <th>US only source?</th>\n",
       "      <th>Unnamed: 0</th>\n",
       "      <th>Village/local area</th>\n",
       "    </tr>\n",
       "  </thead>\n",
       "  <tbody>\n",
       "    <tr>\n",
       "      <th>0</th>\n",
       "      <td>NaN</td>\n",
       "      <td>NaN</td>\n",
       "      <td>FP</td>\n",
       "      <td>01/01/2015</td>\n",
       "      <td>0.0</td>\n",
       "      <td>AFG</td>\n",
       "      <td>77</td>\n",
       "      <td>Spera</td>\n",
       "      <td>0</td>\n",
       "      <td>0</td>\n",
       "      <td>...</td>\n",
       "      <td>-</td>\n",
       "      <td>-</td>\n",
       "      <td>AFG001</td>\n",
       "      <td>http://www.thebureauinvestigates.com/2015/02/1...</td>\n",
       "      <td>-</td>\n",
       "      <td>US strike</td>\n",
       "      <td>1</td>\n",
       "      <td>1.0</td>\n",
       "      <td>0</td>\n",
       "      <td>Unknown</td>\n",
       "    </tr>\n",
       "    <tr>\n",
       "      <th>1</th>\n",
       "      <td>NaN</td>\n",
       "      <td>NaN</td>\n",
       "      <td>-</td>\n",
       "      <td>03/01/2015</td>\n",
       "      <td>0.0</td>\n",
       "      <td>AFG</td>\n",
       "      <td>3</td>\n",
       "      <td>Gayan</td>\n",
       "      <td>0</td>\n",
       "      <td>0</td>\n",
       "      <td>...</td>\n",
       "      <td>-</td>\n",
       "      <td>Convoy</td>\n",
       "      <td>AFG002</td>\n",
       "      <td>http://www.thebureauinvestigates.com/2015/02/1...</td>\n",
       "      <td>Early morning/late evening</td>\n",
       "      <td>US strike</td>\n",
       "      <td>0</td>\n",
       "      <td>0.0</td>\n",
       "      <td>1</td>\n",
       "      <td>Unknown</td>\n",
       "    </tr>\n",
       "    <tr>\n",
       "      <th>2</th>\n",
       "      <td>NaN</td>\n",
       "      <td>NaN</td>\n",
       "      <td>FP</td>\n",
       "      <td>03/01/2015</td>\n",
       "      <td>0.0</td>\n",
       "      <td>AFG</td>\n",
       "      <td>4</td>\n",
       "      <td>Spera</td>\n",
       "      <td>0</td>\n",
       "      <td>0</td>\n",
       "      <td>...</td>\n",
       "      <td>Haqqani</td>\n",
       "      <td>Convoy</td>\n",
       "      <td>AFG003</td>\n",
       "      <td>http://www.thebureauinvestigates.com/2015/02/1...</td>\n",
       "      <td>Early morning</td>\n",
       "      <td>US strike</td>\n",
       "      <td>1</td>\n",
       "      <td>0.0</td>\n",
       "      <td>2</td>\n",
       "      <td>Unknown</td>\n",
       "    </tr>\n",
       "    <tr>\n",
       "      <th>3</th>\n",
       "      <td>NaN</td>\n",
       "      <td>NaN</td>\n",
       "      <td>-</td>\n",
       "      <td>06/01/2015</td>\n",
       "      <td>0.0</td>\n",
       "      <td>AFG</td>\n",
       "      <td>120</td>\n",
       "      <td>Dara I Pech</td>\n",
       "      <td>0</td>\n",
       "      <td>0</td>\n",
       "      <td>...</td>\n",
       "      <td>-</td>\n",
       "      <td>-</td>\n",
       "      <td>AFG004</td>\n",
       "      <td>http://www.thebureauinvestigates.com/2015/02/1...</td>\n",
       "      <td>-</td>\n",
       "      <td>US strike</td>\n",
       "      <td>1</td>\n",
       "      <td>1.0</td>\n",
       "      <td>3</td>\n",
       "      <td>Unknown</td>\n",
       "    </tr>\n",
       "    <tr>\n",
       "      <th>4</th>\n",
       "      <td>NaN</td>\n",
       "      <td>NaN</td>\n",
       "      <td>-</td>\n",
       "      <td>07/01/2015</td>\n",
       "      <td>1.0</td>\n",
       "      <td>AFG</td>\n",
       "      <td>5</td>\n",
       "      <td>Unknown</td>\n",
       "      <td>0</td>\n",
       "      <td>0</td>\n",
       "      <td>...</td>\n",
       "      <td>-</td>\n",
       "      <td>-</td>\n",
       "      <td>AFG005</td>\n",
       "      <td>http://www.thebureauinvestigates.com/2015/02/1...</td>\n",
       "      <td>-</td>\n",
       "      <td>US strike</td>\n",
       "      <td>0</td>\n",
       "      <td>0.0</td>\n",
       "      <td>4</td>\n",
       "      <td>Unknown</td>\n",
       "    </tr>\n",
       "  </tbody>\n",
       "</table>\n",
       "<p>5 rows × 31 columns</p>\n",
       "</div>"
      ],
      "text/plain": [
       "   Air strike? Area  \\\n",
       "0          NaN  NaN   \n",
       "1          NaN  NaN   \n",
       "2          NaN  NaN   \n",
       "3          NaN  NaN   \n",
       "4          NaN  NaN   \n",
       "\n",
       "  Counter-\\nterrorism, force protection or strategic effects?        Date  \\\n",
       "0                                                 FP           01/01/2015   \n",
       "1                                                  -           03/01/2015   \n",
       "2                                                 FP           03/01/2015   \n",
       "3                                                  -           06/01/2015   \n",
       "4                                                  -           07/01/2015   \n",
       "\n",
       "   Drone strike   ID  Index     Location  Maximum children killed  \\\n",
       "0           0.0  AFG     77        Spera                        0   \n",
       "1           0.0  AFG      3        Gayan                        0   \n",
       "2           0.0  AFG      4        Spera                        0   \n",
       "3           0.0  AFG    120  Dara I Pech                        0   \n",
       "4           1.0  AFG      5      Unknown                        0   \n",
       "\n",
       "   Maximum civilians killed         ...          Reported target group?  \\\n",
       "0                         0         ...                               -   \n",
       "1                         0         ...                               -   \n",
       "2                         0         ...                         Haqqani   \n",
       "3                         0         ...                               -   \n",
       "4                         0         ...                               -   \n",
       "\n",
       "   Reported target type  Strike ID  \\\n",
       "0                     -     AFG001   \n",
       "1                Convoy     AFG002   \n",
       "2                Convoy     AFG003   \n",
       "3                     -     AFG004   \n",
       "4                     -     AFG005   \n",
       "\n",
       "                                         Strike link  \\\n",
       "0  http://www.thebureauinvestigates.com/2015/02/1...   \n",
       "1  http://www.thebureauinvestigates.com/2015/02/1...   \n",
       "2  http://www.thebureauinvestigates.com/2015/02/1...   \n",
       "3  http://www.thebureauinvestigates.com/2015/02/1...   \n",
       "4  http://www.thebureauinvestigates.com/2015/02/1...   \n",
       "\n",
       "                         Time  Type of attack  US confirmed?  US only source?  \\\n",
       "0                           -       US strike              1              1.0   \n",
       "1  Early morning/late evening       US strike              0              0.0   \n",
       "2               Early morning       US strike              1              0.0   \n",
       "3                           -       US strike              1              1.0   \n",
       "4                           -       US strike              0              0.0   \n",
       "\n",
       "   Unnamed: 0  Village/local area  \n",
       "0           0             Unknown  \n",
       "1           1             Unknown  \n",
       "2           2             Unknown  \n",
       "3           3             Unknown  \n",
       "4           4             Unknown  \n",
       "\n",
       "[5 rows x 31 columns]"
      ]
     },
     "execution_count": 6,
     "metadata": {},
     "output_type": "execute_result"
    }
   ],
   "source": [
    "frames = [afghanistan, yemen, somalia, pakistan]\n",
    "frames_dict= {}\n",
    "frames_dict['Afghanistan'] = afghanistan\n",
    "frames_dict['Pakistan'] = pakistan\n",
    "frames_dict['Somalia'] = somalia\n",
    "frames_dict['Yemen'] = yemen\n",
    "\n",
    "\n",
    "master_frame = pd.concat(frames, ignore_index=True)\n",
    "# for frame in frames:\n",
    "#     print(frame.shape)\n",
    "#     print(frame.head(2))\n",
    "master_frame.head(5)"
   ]
  },
  {
   "cell_type": "code",
   "execution_count": 7,
   "metadata": {
    "scrolled": true
   },
   "outputs": [
    {
     "name": "stdout",
     "output_type": "stream",
     "text": [
      "<class 'pandas.core.frame.DataFrame'>\n",
      "RangeIndex: 1257 entries, 0 to 1256\n",
      "Data columns (total 31 columns):\n",
      "Air strike?                                                   385 non-null float64\n",
      "Area                                                          430 non-null object\n",
      "Counter-\n",
      "terrorism, force protection or strategic effects?    442 non-null object\n",
      "Date                                                          1257 non-null object\n",
      "Drone strike                                                  827 non-null float64\n",
      "ID                                                            1257 non-null object\n",
      "Index                                                         1257 non-null int64\n",
      "Location                                                      1256 non-null object\n",
      "Maximum children killed                                       1257 non-null int64\n",
      "Maximum civilians killed                                      1257 non-null int64\n",
      "Maximum number of strikes                                     299 non-null float64\n",
      "Maximum people injured                                        1257 non-null int64\n",
      "Maximum people killed                                         1257 non-null int64\n",
      "Maximum strikes                                               528 non-null float64\n",
      "Minimum children killed                                       1257 non-null int64\n",
      "Minimum civilians killed                                      1257 non-null int64\n",
      "Minimum number of strikes                                     299 non-null float64\n",
      "Minimum people injured                                        1257 non-null int64\n",
      "Minimum people killed                                         1257 non-null int64\n",
      "Minimum strikes                                               528 non-null float64\n",
      "Province                                                      741 non-null object\n",
      "Reported target group?                                        442 non-null object\n",
      "Reported target type                                          442 non-null object\n",
      "Strike ID                                                     1257 non-null object\n",
      "Strike link                                                   1066 non-null object\n",
      "Time                                                          442 non-null object\n",
      "Type of attack                                                827 non-null object\n",
      "US confirmed?                                                 827 non-null object\n",
      "US only source?                                               442 non-null float64\n",
      "Unnamed: 0                                                    1257 non-null int64\n",
      "Village/local area                                            442 non-null object\n",
      "dtypes: float64(7), int64(10), object(14)\n",
      "memory usage: 304.5+ KB\n"
     ]
    },
    {
     "name": "stderr",
     "output_type": "stream",
     "text": [
      "/home/skultra/Springboard/anaconda3/lib/python3.6/site-packages/ipykernel_launcher.py:4: FutureWarning:\n",
      "\n",
      "convert_objects is deprecated.  To re-infer data dtypes for object columns, use DataFrame.infer_objects()\n",
      "For all other conversions use the data-type specific converters pd.to_datetime, pd.to_timedelta and pd.to_numeric.\n",
      "\n"
     ]
    },
    {
     "data": {
      "text/plain": [
       "Air strike?                                                    float64\n",
       "Area                                                            object\n",
       "Counter-\\nterrorism, force protection or strategic effects?     object\n",
       "Date                                                            object\n",
       "Drone strike                                                   float64\n",
       "ID                                                              object\n",
       "Index                                                            int64\n",
       "Location                                                        object\n",
       "Maximum children killed                                          int64\n",
       "Maximum civilians killed                                         int64\n",
       "Maximum number of strikes                                      float64\n",
       "Maximum people injured                                           int64\n",
       "Maximum people killed                                            int64\n",
       "Maximum strikes                                                float64\n",
       "Minimum children killed                                          int64\n",
       "Minimum civilians killed                                         int64\n",
       "Minimum number of strikes                                      float64\n",
       "Minimum people injured                                           int64\n",
       "Minimum people killed                                            int64\n",
       "Minimum strikes                                                float64\n",
       "Province                                                        object\n",
       "Reported target group?                                          object\n",
       "Reported target type                                            object\n",
       "Strike ID                                                       object\n",
       "Strike link                                                     object\n",
       "Time                                                           float64\n",
       "Type of attack                                                  object\n",
       "US confirmed?                                                  float64\n",
       "US only source?                                                float64\n",
       "Unnamed: 0                                                       int64\n",
       "Village/local area                                              object\n",
       "dtype: object"
      ]
     },
     "execution_count": 7,
     "metadata": {},
     "output_type": "execute_result"
    }
   ],
   "source": [
    "#MasterFrame.columns\n",
    "#MasterFrame.shape\n",
    "master_frame.info()\n",
    "master_frame.convert_objects(convert_numeric=True).dtypes \n"
   ]
  },
  {
   "cell_type": "code",
   "execution_count": 8,
   "metadata": {},
   "outputs": [
    {
     "name": "stdout",
     "output_type": "stream",
     "text": [
      "Index(['Air strike?', 'Area',\n",
      "       'Counter-\\nterrorism, force protection or strategic effects?', 'Date',\n",
      "       'Drone strike', 'ID', 'Index', 'Location', 'Maximum children killed',\n",
      "       'Maximum civilians killed', 'Maximum number of strikes',\n",
      "       'Maximum people injured', 'Maximum people killed', 'Maximum strikes',\n",
      "       'Minimum children killed', 'Minimum civilians killed',\n",
      "       'Minimum number of strikes', 'Minimum people injured',\n",
      "       'Minimum people killed', 'Minimum strikes', 'Province',\n",
      "       'Reported target group?', 'Reported target type', 'Strike ID',\n",
      "       'Strike link', 'Time', 'Type of attack', 'US confirmed?',\n",
      "       'US only source?', 'Unnamed: 0', 'Village/local area', 'AFG', 'P',\n",
      "       'SOM', 'YEM'],\n",
      "      dtype='object')\n"
     ]
    }
   ],
   "source": [
    "s = pd.Series(master_frame['ID'])\n",
    "k = pd.DataFrame()\n",
    "k = pd.get_dummies(s)\n",
    "master_frame=master_frame.join(k)\n",
    "print(master_frame.columns)\n"
   ]
  },
  {
   "cell_type": "markdown",
   "metadata": {},
   "source": []
  },
  {
   "cell_type": "markdown",
   "metadata": {},
   "source": [
    "LOAD JSON FILE CREATED FROM CIA TWITTER FEED"
   ]
  },
  {
   "cell_type": "code",
   "execution_count": 9,
   "metadata": {},
   "outputs": [
    {
     "data": {
      "text/html": [
       "<div>\n",
       "<style scoped>\n",
       "    .dataframe tbody tr th:only-of-type {\n",
       "        vertical-align: middle;\n",
       "    }\n",
       "\n",
       "    .dataframe tbody tr th {\n",
       "        vertical-align: top;\n",
       "    }\n",
       "\n",
       "    .dataframe thead th {\n",
       "        text-align: right;\n",
       "    }\n",
       "</style>\n",
       "<table border=\"1\" class=\"dataframe\">\n",
       "  <thead>\n",
       "    <tr style=\"text-align: right;\">\n",
       "      <th></th>\n",
       "      <th>_id</th>\n",
       "      <th>articles</th>\n",
       "      <th>bij_link</th>\n",
       "      <th>bij_summary_short</th>\n",
       "      <th>bureau_id</th>\n",
       "      <th>children</th>\n",
       "      <th>civilians</th>\n",
       "      <th>country</th>\n",
       "      <th>date</th>\n",
       "      <th>deaths</th>\n",
       "      <th>...</th>\n",
       "      <th>injuries</th>\n",
       "      <th>lat</th>\n",
       "      <th>location</th>\n",
       "      <th>lon</th>\n",
       "      <th>names</th>\n",
       "      <th>narrative</th>\n",
       "      <th>number</th>\n",
       "      <th>target</th>\n",
       "      <th>town</th>\n",
       "      <th>tweet_id</th>\n",
       "    </tr>\n",
       "  </thead>\n",
       "  <tbody>\n",
       "    <tr>\n",
       "      <th>0</th>\n",
       "      <td>55c79e711cbee48856a30886</td>\n",
       "      <td>[]</td>\n",
       "      <td>http://www.thebureauinvestigates.com/2012/03/2...</td>\n",
       "      <td>In the first known US targeted assassination u...</td>\n",
       "      <td>YEM001</td>\n",
       "      <td></td>\n",
       "      <td>0</td>\n",
       "      <td>Yemen</td>\n",
       "      <td>2002-11-03T00:00:00.000Z</td>\n",
       "      <td>6</td>\n",
       "      <td>...</td>\n",
       "      <td></td>\n",
       "      <td>15.47467</td>\n",
       "      <td>Marib Province</td>\n",
       "      <td>45.322755</td>\n",
       "      <td>[Qa'id Salim Sinan al-Harithi, Abu Ahmad al-Hi...</td>\n",
       "      <td>In the first known US targeted assassination u...</td>\n",
       "      <td>1</td>\n",
       "      <td></td>\n",
       "      <td></td>\n",
       "      <td>278544689483890688</td>\n",
       "    </tr>\n",
       "    <tr>\n",
       "      <th>1</th>\n",
       "      <td>55c79e711cbee48856a30887</td>\n",
       "      <td>[]</td>\n",
       "      <td>http://www.thebureauinvestigates.com/2011/08/1...</td>\n",
       "      <td>First known drone strike in Pakistan kills at ...</td>\n",
       "      <td>B1</td>\n",
       "      <td>2</td>\n",
       "      <td>2</td>\n",
       "      <td>Pakistan</td>\n",
       "      <td>2004-06-17T00:00:00.000Z</td>\n",
       "      <td>6-8</td>\n",
       "      <td>...</td>\n",
       "      <td>1</td>\n",
       "      <td>32.30512565</td>\n",
       "      <td>South Waziristan</td>\n",
       "      <td>69.57624435</td>\n",
       "      <td>[Nek Mohammad, Fakhar Zaman, Azmat Khan, Marez...</td>\n",
       "      <td>The first known fatal US drone strike inside P...</td>\n",
       "      <td>2</td>\n",
       "      <td>Nek Mohammed</td>\n",
       "      <td>Wana</td>\n",
       "      <td>278544750867533824</td>\n",
       "    </tr>\n",
       "  </tbody>\n",
       "</table>\n",
       "<p>2 rows × 22 columns</p>\n",
       "</div>"
      ],
      "text/plain": [
       "                        _id articles  \\\n",
       "0  55c79e711cbee48856a30886       []   \n",
       "1  55c79e711cbee48856a30887       []   \n",
       "\n",
       "                                            bij_link  \\\n",
       "0  http://www.thebureauinvestigates.com/2012/03/2...   \n",
       "1  http://www.thebureauinvestigates.com/2011/08/1...   \n",
       "\n",
       "                                   bij_summary_short bureau_id children  \\\n",
       "0  In the first known US targeted assassination u...    YEM001            \n",
       "1  First known drone strike in Pakistan kills at ...        B1        2   \n",
       "\n",
       "  civilians   country                      date deaths         ...          \\\n",
       "0         0     Yemen  2002-11-03T00:00:00.000Z      6         ...           \n",
       "1         2  Pakistan  2004-06-17T00:00:00.000Z    6-8         ...           \n",
       "\n",
       "  injuries          lat          location          lon  \\\n",
       "0              15.47467    Marib Province    45.322755   \n",
       "1        1  32.30512565  South Waziristan  69.57624435   \n",
       "\n",
       "                                               names  \\\n",
       "0  [Qa'id Salim Sinan al-Harithi, Abu Ahmad al-Hi...   \n",
       "1  [Nek Mohammad, Fakhar Zaman, Azmat Khan, Marez...   \n",
       "\n",
       "                                           narrative number        target  \\\n",
       "0  In the first known US targeted assassination u...      1                 \n",
       "1  The first known fatal US drone strike inside P...      2  Nek Mohammed   \n",
       "\n",
       "   town            tweet_id  \n",
       "0        278544689483890688  \n",
       "1  Wana  278544750867533824  \n",
       "\n",
       "[2 rows x 22 columns]"
      ]
     },
     "execution_count": 9,
     "metadata": {},
     "output_type": "execute_result"
    }
   ],
   "source": [
    "#with keyword automatically closes file at the end\n",
    "with open('/home/skultra/Springboard/Code/Capstone-1/Drone_Data/Drone_Data.json') as f:\n",
    "    twitter_drone = json.load(f)\n",
    "twitter_drone.keys()\n",
    "    \n",
    "#JSON_DF_stats['status'] = pd.DataFrame(twitter_drone)\n",
    "JSON_DF_stats = pd.DataFrame(twitter_drone['strike'])\n",
    "# remove all the columns, that are not common\n",
    "# combine all the data frames into one\n",
    "# look at pandas documentation, combine things into one big data frame\n",
    "# do same for both sets of data, get 2 clean dataframes, \n",
    "JSON_DF_stats.head(2)"
   ]
  },
  {
   "cell_type": "code",
   "execution_count": null,
   "metadata": {
    "collapsed": true
   },
   "outputs": [],
   "source": []
  },
  {
   "cell_type": "code",
   "execution_count": null,
   "metadata": {
    "collapsed": true
   },
   "outputs": [],
   "source": []
  },
  {
   "cell_type": "code",
   "execution_count": 10,
   "metadata": {},
   "outputs": [
    {
     "name": "stdout",
     "output_type": "stream",
     "text": [
      "Counter({'P': 430})\n",
      "Counter({'AFG': 442, 'P': 430, 'YEM': 299, 'SOM': 86})\n"
     ]
    }
   ],
   "source": [
    "pakistan_counter = Counter(pakistan.ID)\n",
    "print(pakistan_counter)\n",
    "id_counter = Counter(master_frame['ID'])\n",
    "print(id_counter)"
   ]
  },
  {
   "cell_type": "code",
   "execution_count": null,
   "metadata": {
    "collapsed": true
   },
   "outputs": [],
   "source": []
  },
  {
   "cell_type": "code",
   "execution_count": 11,
   "metadata": {
    "collapsed": true
   },
   "outputs": [],
   "source": [
    "#     from sklearn.preprocessing import OneHotEncoder, LabelEncoder\n",
    "#     from sklearn.linear_model import LinearRegression\n",
    "\n",
    "#     IDlabel = LabelEncoder()\n",
    "\n",
    "#     categorical_variables = master_frame['ID'] \n",
    "#     s_labels = IDlabel.fit_transform(master_frame['ID'])\n",
    "#     master_frame['ID'] = s_labels\n",
    "\n",
    "#     cat_var = OneHotEncoder()\n",
    "#     #cat_var.fit(categorical_variables)\n",
    "\n",
    "#     #for cat in categorical_variables: \n",
    "#     #cat_fi_tr = cat_var.fit_transform(categorical_variables)\n",
    "#     #cat_fi_tr.todense()\n",
    "\n",
    "#     master_frame.head(3)\n",
    "#     #cat_var_arr = cat_var.fit_trans()\n",
    "#     #pd: master_frame\n"
   ]
  },
  {
   "cell_type": "markdown",
   "metadata": {},
   "source": [
    "VISUALIZATION"
   ]
  },
  {
   "cell_type": "code",
   "execution_count": 12,
   "metadata": {
    "scrolled": true
   },
   "outputs": [
    {
     "data": {
      "image/png": "[encoded data removed]",
      "text/plain": [
       "<matplotlib.figure.Figure at 0x7f3c903d1dd8>"
      ]
     },
     "metadata": {},
     "output_type": "display_data"
    },
    {
     "data": {
      "image/png": "[encoded data removed]",
      "text/plain": [
       "<matplotlib.figure.Figure at 0x7f3c43ef60b8>"
      ]
     },
     "metadata": {},
     "output_type": "display_data"
    },
    {
     "data": {
      "image/png": "[encoded data removed]",
      "text/plain": [
       "<matplotlib.figure.Figure at 0x7f3c3b795e80>"
      ]
     },
     "metadata": {},
     "output_type": "display_data"
    },
    {
     "data": {
      "image/png": "[encoded data removed]",
      "text/plain": [
       "<matplotlib.figure.Figure at 0x7f3c3b79ab00>"
      ]
     },
     "metadata": {},
     "output_type": "display_data"
    }
   ],
   "source": [
    "#Count something interesting\n",
    "# of civilian deaths per AO\n",
    "# Somalia has the greatest fluctuation between known civlian deaths and unknown civilian deaths\n",
    "for key,value in frames_dict.items():\n",
    "    cols = ['Minimum civilians killed', 'Maximum civilians killed']    \n",
    "    value[cols].sum().plot.bar(title=key)\n",
    "    plt.show()\n",
    "\n",
    "#set the dictionary key as name of \n",
    "#for key, value in dictionary.items:\n",
    "    "
   ]
  },
  {
   "cell_type": "markdown",
   "metadata": {
    "collapsed": true
   },
   "source": [
    "Investigating the trend of drone related deaths over time using a line graph. \n",
    "    "
   ]
  },
  {
   "cell_type": "code",
   "execution_count": 13,
   "metadata": {
    "scrolled": true
   },
   "outputs": [
    {
     "data": {
      "image/png": "[encoded data removed]",
      "text/plain": [
       "<matplotlib.figure.Figure at 0x7f3c3b7d5a20>"
      ]
     },
     "metadata": {},
     "output_type": "display_data"
    },
    {
     "data": {
      "image/png": "[encoded data removed]",
      "text/plain": [
       "<matplotlib.figure.Figure at 0x7f3c3b7906a0>"
      ]
     },
     "metadata": {},
     "output_type": "display_data"
    },
    {
     "data": {
      "image/png": "[encoded data removed]",
      "text/plain": [
       "<matplotlib.figure.Figure at 0x7f3c3b718da0>"
      ]
     },
     "metadata": {},
     "output_type": "display_data"
    },
    {
     "data": {
      "image/png": "[encoded data removed]",
      "text/plain": [
       "<matplotlib.figure.Figure at 0x7f3c3b6a8358>"
      ]
     },
     "metadata": {},
     "output_type": "display_data"
    }
   ],
   "source": [
    "#subset out and take each seperately, \n",
    "for key,value in frames_dict.items():\n",
    "    cols = ['Minimum children killed', 'Maximum children killed']    \n",
    "    value[cols].sum().plot.bar(title=key)\n",
    "    plt.show()"
   ]
  },
  {
   "cell_type": "markdown",
   "metadata": {},
   "source": [
    "Least number of children killed in Somalia, most number in Yemen. "
   ]
  },
  {
   "cell_type": "markdown",
   "metadata": {},
   "source": [
    "Immediate goals: do heatmap visualization, children killed, count based columns, heatmap, clustering, some count based columns(bar chart or pie char)\n",
    "statistiscal \n",
    "after: basic writeups nad documentation\n",
    "    \n",
    "NLP featurization-preprocessing test, clean text data\n",
    "basic supervised ML for classification: random forest, svm, logistic regressions, boosting, bagging vs. boosting\n",
    "measuring accuracy, precision, recall, f1 score\n",
    "        "
   ]
  },
  {
   "cell_type": "code",
   "execution_count": 14,
   "metadata": {
    "collapsed": true
   },
   "outputs": [],
   "source": [
    "import colorama\n",
    "\n",
    "def country_color(country):\n",
    "    if country is 'Pakistan':\n",
    "        color = 'red'\n",
    "    elif country is 'Yemen':\n",
    "        color = 'blue'\n",
    "    elif country is 'Somalia':\n",
    "        color = 'green'\n",
    "   "
   ]
  },
  {
   "cell_type": "code",
   "execution_count": 27,
   "metadata": {},
   "outputs": [
    {
     "name": "stderr",
     "output_type": "stream",
     "text": [
      "/home/skultra/Springboard/anaconda3/lib/python3.6/site-packages/ipykernel_launcher.py:2: SettingWithCopyWarning:\n",
      "\n",
      "\n",
      "A value is trying to be set on a copy of a slice from a DataFrame.\n",
      "Try using .loc[row_indexer,col_indexer] = value instead\n",
      "\n",
      "See the caveats in the documentation: http://pandas.pydata.org/pandas-docs/stable/indexing.html#indexing-view-versus-copy\n",
      "\n"
     ]
    }
   ],
   "source": [
    "country_plot = JSON_DF_stats[['country', 'lon', 'lat']]\n",
    "country_plot['colors'] = ''\n",
    "country_color(country_plot.country)"
   ]
  },
  {
   "cell_type": "code",
   "execution_count": 30,
   "metadata": {},
   "outputs": [
    {
     "data": {
      "text/html": [
       "<iframe id=\"igraph\" scrolling=\"no\" style=\"border:none;\" seamless=\"seamless\" src=\"https://plot.ly/~leenpaws/48.embed\" height=\"525px\" width=\"100%\"></iframe>"
      ],
      "text/plain": [
       "<plotly.tools.PlotlyDisplay object>"
      ]
     },
     "execution_count": 30,
     "metadata": {},
     "output_type": "execute_result"
    }
   ],
   "source": [
    "\n",
    "plotly.tools.set_credentials_file(username='leenpaws', api_key='Yvlmp4HJVzmDIWh29468')\n",
    "\n",
    "trace = dict(\n",
    "    type = 'scattergeo',\n",
    "    lon = country_plot.lon, lat = country_plot.lat,\n",
    "    marker = country_plot.colors,\n",
    "    mode = 'markers',\n",
    "    validate = False) \n",
    "py.iplot([trace],validate=False)\n",
    "\n",
    "\n"
   ]
  },
  {
   "cell_type": "markdown",
   "metadata": {},
   "source": [
    "INFERENTIAL STATISTICS"
   ]
  },
  {
   "cell_type": "markdown",
   "metadata": {},
   "source": [
    "In Yemen, Somalia, and Pakistan, most strikes are concentrated towards the coastal and country borders, possibly to ensure movement between jurisdictions aren't free."
   ]
  },
  {
   "cell_type": "code",
   "execution_count": 17,
   "metadata": {},
   "outputs": [
    {
     "data": {
      "text/plain": [
       "\"meanD = df100_ratio_mean - df1000_ratio_mean \\n# Get the standard deviation of each group () df100_ratio_std = df100['Excess Readmission Ratio'].std()\\ndf1000_ratio_std = df1000['Excess Readmission Ratio'].std() \\n# Get the size of each group (n) df100_ratio_size = len(df100) df1000_ratio_size = len(df1000) \\n# Calculate Standard Error (SE) \\nSE = math.sqrt(((df100_ratio_std*df100_ratio_std)/df100_ratio_size)+\\n((df1000_ratio_std*df1000_ratio_std)/df1000_ratio_size) )\\n# Calculate Z-Score z_score = meanD / SE z_score\""
      ]
     },
     "execution_count": 17,
     "metadata": {},
     "output_type": "execute_result"
    }
   ],
   "source": [
    "def paired_difference_test(frame1, frame2):\n",
    "    df1_population = []\n",
    "    df2_population = []\n",
    "#get the mean difference\n",
    "    df1_population = .5 * (frame1['Maximum civilians killed'] -frame1['Minimum civilians killed'])\n",
    "    df2_population = .5 * (frame2['Maximum civilians killed'] - frame2['Minimum civilians killed'])\n",
    "    meand = df1_population.mean() - df2_population.mean()\n",
    "    \n",
    "#get std deviation of each group    \n",
    "    df1_population_std = df1_population.std()\n",
    "    df2_population_std = df2_population.std()\n",
    "    \n",
    "#get size of each group    \n",
    "    df1_population_ratio_size = len(df1_population)\n",
    "    df2_population_ratio_size = len(df2_population)\n",
    "    \n",
    "#get standard error\n",
    "    SE = math.sqrt(((df2_population_std*df2_population_std)/df1_population_ratio_size)+\n",
    "                   ((df1_population_std*df1_population_std)/df2_population_ratio_size))   \n",
    "#z-score\n",
    "    z_score = meand/SE\n",
    "    \n",
    "    \n",
    "#calculate p-value\n",
    "    p_value = stats.norm.sf(abs(z_score))\n",
    "    \n",
    "    print(\"Standard Error:\", SE)\n",
    "    print(\"z_score\", z_score)\n",
    "    print(\"p_value\", p_value)\n",
    "    \n",
    "#    df1.head()\n",
    "    \n",
    "'''meanD = df100_ratio_mean - df1000_ratio_mean \n",
    "# Get the standard deviation of each group () df100_ratio_std = df100['Excess Readmission Ratio'].std()\n",
    "df1000_ratio_std = df1000['Excess Readmission Ratio'].std() \n",
    "# Get the size of each group (n) df100_ratio_size = len(df100) df1000_ratio_size = len(df1000) \n",
    "# Calculate Standard Error (SE) \n",
    "SE = math.sqrt(((df100_ratio_std*df100_ratio_std)/df100_ratio_size)+\n",
    "((df1000_ratio_std*df1000_ratio_std)/df1000_ratio_size) )\n",
    "# Calculate Z-Score z_score = meanD / SE z_score'''"
   ]
  },
  {
   "cell_type": "code",
   "execution_count": 18,
   "metadata": {
    "scrolled": false
   },
   "outputs": [
    {
     "name": "stdout",
     "output_type": "stream",
     "text": [
      "Afghanistan:Yemen\n",
      "Standard Error: 0.10054440569449044\n",
      "z_score 0.43634182320427434\n",
      "p_value 0.3312943708584498\n",
      "\n",
      "Afghanistan:Somalia\n",
      "Standard Error: 0.1871807508145979\n",
      "z_score -0.6912045985744322\n",
      "p_value 0.2447184872056169\n",
      "\n",
      "Afghanistan:Pakistan\n",
      "Standard Error: 0.11288259126005473\n",
      "z_score -3.6698654064693788\n",
      "p_value 0.00012133910577461915\n",
      "\n",
      "Yemen:Somalia\n",
      "Standard Error: 0.1311606424123993\n",
      "z_score -1.3209139711030473\n",
      "p_value 0.09326502538232784\n",
      "\n",
      "Yemen:Pakistan\n",
      "Standard Error: 0.10917268276636354\n",
      "z_score -4.196431143238104\n",
      "p_value 1.3557692396099529e-05\n",
      "\n",
      "Somalia:Pakistan\n",
      "Standard Error: 0.20328480387672884\n",
      "z_score -1.4014019518300296\n",
      "p_value 0.08054695447254817\n"
     ]
    }
   ],
   "source": [
    "print(\"Afghanistan:Yemen\")\n",
    "paired_difference_test(afghanistan, yemen)\n",
    "\n",
    "print(\"\\nAfghanistan:Somalia\")\n",
    "paired_difference_test(afghanistan, somalia)\n",
    "\n",
    "print(\"\\nAfghanistan:Pakistan\")\n",
    "paired_difference_test(afghanistan, pakistan)\n",
    "\n",
    "print(\"\\nYemen:Somalia\")\n",
    "paired_difference_test(yemen, somalia)\n",
    "\n",
    "print(\"\\nYemen:Pakistan\")\n",
    "paired_difference_test(yemen, pakistan)\n",
    "\n",
    "print(\"\\nSomalia:Pakistan\")\n",
    "paired_difference_test(somalia, pakistan)\n"
   ]
  },
  {
   "cell_type": "code",
   "execution_count": 19,
   "metadata": {},
   "outputs": [
    {
     "data": {
      "text/plain": [
       "Index(['ID', 'Index', 'Location', 'Maximum children killed',\n",
       "       'Maximum civilians killed', 'Maximum number of strikes',\n",
       "       'Maximum people injured', 'Maximum people killed', 'Maximum strikes',\n",
       "       'Minimum children killed', 'Minimum civilians killed',\n",
       "       'Minimum number of strikes', 'Minimum people injured',\n",
       "       'Minimum people killed', 'Minimum strikes', 'Province',\n",
       "       'Reported target group?', 'Reported target type', 'Strike ID',\n",
       "       'Strike link', 'Time', 'Type of attack', 'US confirmed?',\n",
       "       'US only source?', 'Unnamed: 0', 'Village/local area', 'AFG', 'P',\n",
       "       'SOM', 'YEM'],\n",
       "      dtype='object')"
      ]
     },
     "execution_count": 19,
     "metadata": {},
     "output_type": "execute_result"
    }
   ],
   "source": [
    "master_frame.columns[5:35]                        "
   ]
  },
  {
   "cell_type": "markdown",
   "metadata": {
    "collapsed": true
   },
   "source": [
    "PCA & KMeans"
   ]
  },
  {
   "cell_type": "code",
   "execution_count": 20,
   "metadata": {},
   "outputs": [
    {
     "name": "stdout",
     "output_type": "stream",
     "text": [
      "[[-0.94250735 -0.69337599  0.51260882  0.72864738]\n",
      " [ 0.06562542 -0.86177807  0.3792533  -0.28528973]\n",
      " [-0.55045571 -0.75886569  0.46074834  0.3343385 ]\n",
      " ...\n",
      " [-0.41757967 -0.51102993 -0.79168588  0.54922496]\n",
      " [-0.33013771 -0.524929   -0.80682389  0.45429697]\n",
      " [-0.55987212 -0.48074891 -0.68983801  0.78404912]]\n"
     ]
    },
    {
     "data": {
      "text/plain": [
       "KMeans(algorithm='auto', copy_x=True, init='k-means++', max_iter=300,\n",
       "    n_clusters=4, n_init=10, n_jobs=1, precompute_distances='auto',\n",
       "    random_state=None, tol=0.0001, verbose=0)"
      ]
     },
     "execution_count": 20,
     "metadata": {},
     "output_type": "execute_result"
    }
   ],
   "source": [
    "scaler = StandardScaler()\n",
    "\n",
    "pca = PCA(n_components = 4)\n",
    "#master_frame_update_new = master_frame_new.columns[5:19]\n",
    "#master_frame_update_new.join(master_frame_new.columns[5])\n",
    "master_frame_updated = master_frame[['Maximum children killed',\n",
    "       'Maximum civilians killed', 'Maximum number of strikes',\n",
    "       'Maximum people injured', 'Maximum people killed', 'Maximum strikes',\n",
    "       'Minimum children killed', 'Minimum civilians killed',\n",
    "       'Minimum number of strikes', 'Minimum people injured',\n",
    "       'Minimum people killed', 'Minimum strikes', 'AFG', 'P',\n",
    "       'SOM', 'YEM']]\n",
    "\n",
    "#master_frame_updated = master_frame_updated.drop('Unnamed: 0', 1, inplace=True)\n",
    "#master_frame_updated.convert_objects(convert_numeric=True).dtypes \n",
    "#print(master_frame_updated.head(3))\n",
    "master_frame_updated = master_frame_updated.fillna(0)\n",
    "scaled_frame = scaler.fit_transform(master_frame_updated)\n",
    "\n",
    "pca_features = pca.fit_transform(scaled_frame)\n",
    "print(pca_features)\n",
    "\n",
    "# Assign 0th column of pca_features: xs\n",
    "#xs = pca_features[:,0]\n",
    "\n",
    "# Assign 1st column of pca_features: ys\n",
    "#ys = pca_features[:,1]\n",
    "\n",
    "# Scatter plot xs vs ys\n",
    "#plt.scatter(xs, ys)\n",
    "#plt.axis('equal')\n",
    "#plt.show()\n",
    "\n",
    "# Create scaler: scaler\n",
    "#scaler = StandardScaler()\n",
    "\n",
    "# Create KMeans instance: kmeans\n",
    "kmeans = KMeans(n_clusters=4)\n",
    "kmeans.fit(scaled_frame)\n",
    "\n",
    "\n",
    "# Create pipeline: pipeline\n",
    "#pipeline = make_pipeline(scaler,kmeans)\n",
    "\n",
    "#pipeline.fit()\n"
   ]
  },
  {
   "cell_type": "code",
   "execution_count": 21,
   "metadata": {
    "collapsed": true
   },
   "outputs": [],
   "source": [
    "clusters = kmeans.labels_"
   ]
  },
  {
   "cell_type": "code",
   "execution_count": 22,
   "metadata": {},
   "outputs": [
    {
     "data": {
      "image/png": "[encoded data removed]",
      "text/plain": [
       "<matplotlib.figure.Figure at 0x7f3c3b81def0>"
      ]
     },
     "metadata": {},
     "output_type": "display_data"
    }
   ],
   "source": [
    "fig, (ax1) = plt.subplots(1, 1, figsize=(8, 4))\n",
    "fig.suptitle('Visualizing drone strike clusters')\n",
    "fig.subplots_adjust(top=0.85, wspace=0.5)\n",
    "ax1.set_title('Actual Labels')\n",
    "#ax2.set_title('Clustered Labels')\n",
    "y = clusters\n",
    "bc_pca = pca_features\n",
    "for i in range(len(y)):\n",
    "    if y[i] == 0:\n",
    "        c1 = ax1.scatter(bc_pca[i,0], bc_pca[i,1],c='g', marker='.')\n",
    "    if y[i] == 1:\n",
    "        c2 = ax1.scatter(bc_pca[i,0], bc_pca[i,1],c='r', marker='.')\n",
    "    if y[i] == 2:\n",
    "        c3 = ax1.scatter(bc_pca[i,0], bc_pca[i,1],c='b', marker='.')\n",
    "    if y[i] == 3:\n",
    "        c4 = ax1.scatter(bc_pca[i,0], bc_pca[i,1],c='y', marker='.')\n",
    "        "
   ]
  },
  {
   "cell_type": "code",
   "execution_count": 23,
   "metadata": {
    "collapsed": true
   },
   "outputs": [],
   "source": [
    "import os\n",
    "import os.path as op\n",
    "from time import time\n",
    "import dask.dataframe as ddf\n",
    "import dask.array as da\n",
    "from distributed import Client\n",
    "\n",
    "\n",
    "def make_categorical_data(n_samples=int(1e7), n_features=10):\n",
    "    \"\"\"Generate some random categorical data\n",
    "    The default parameters should generate around 1GB of random integer data\n",
    "    with increasing cardinality along with a normally distributed real valued\n",
    "    target variable.\n",
    "    \"\"\"\n",
    "    feature_names = ['f_%03d' % i for i in range(n_features)]\n",
    "    features_series = [\n",
    "        da.random.randint(low=0, high=(i + 1) * 10, size=n_samples,\n",
    "                          chunks=n_samples // 10)\n",
    "        for i in range(n_features)\n",
    "    ]\n",
    "    features_series = [\n",
    "        ddf.from_dask_array(col_data, columns=[feature_name])\n",
    "        for col_data, feature_name in zip(features_series, feature_names)\n",
    "    ]\n",
    "    target = da.random.normal(loc=0, scale=1, size=n_samples,\n",
    "                              chunks=n_samples // 10)\n",
    "    target = ddf.from_dask_array(target, columns=['target'])"
   ]
  },
  {
   "cell_type": "code",
   "execution_count": null,
   "metadata": {
    "collapsed": true
   },
   "outputs": [],
   "source": [
    "import os\n",
    "import os.path as op\n",
    "from time import time\n",
    "import dask.dataframe as ddf\n",
    "import dask.array as da\n",
    "from distributed import Client\n",
    "\n",
    "\n",
    "def make_categorical_data(n_samples=int(1e7), n_features=10):\n",
    "    \"\"\"Generate some random categorical data\n",
    "    The default parameters should generate around 1GB of random integer data\n",
    "    with increasing cardinality along with a normally distributed real valued\n",
    "    target variable.\n",
    "    \"\"\"\n",
    "    feature_names = ['f_%03d' % i for i in range(n_features)]\n",
    "    features_series = [\n",
    "        da.random.randint(low=0, high=(i + 1) * 10, size=n_samples,\n",
    "                          chunks=n_samples // 10)\n",
    "        for i in range(n_features)\n",
    "    ]\n",
    "    features_series = [\n",
    "        ddf.from_dask_array(col_data, columns=[feature_name])\n",
    "        for col_data, feature_name in zip(features_series, feature_names)\n",
    "    ]\n",
    "    target = da.random.normal(loc=0, scale=1, size=n_samples,\n",
    "                              chunks=n_samples // 10)\n",
    "    target = ddf.from_dask_array(target, columns=['target'])"
   ]
  },
  {
   "cell_type": "code",
   "execution_count": null,
   "metadata": {
    "collapsed": true
   },
   "outputs": [],
   "source": []
  },
  {
   "cell_type": "code",
   "execution_count": null,
   "metadata": {
    "collapsed": true
   },
   "outputs": [],
   "source": []
  },
  {
   "cell_type": "code",
   "execution_count": null,
   "metadata": {
    "collapsed": true
   },
   "outputs": [],
   "source": []
  }
 ],
 "metadata": {
  "kernelspec": {
   "display_name": "Python 3",
   "language": "python",
   "name": "python3"
  },
  "language_info": {
   "codemirror_mode": {
    "name": "ipython",
    "version": 3
   },
   "file_extension": ".py",
   "mimetype": "text/x-python",
   "name": "python",
   "nbconvert_exporter": "python",
   "pygments_lexer": "ipython3",
   "version": "3.6.3"
  }
 },
 "nbformat": 4,
 "nbformat_minor": 1
}
